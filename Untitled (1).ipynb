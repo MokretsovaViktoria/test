{
 "cells": [
  {
   "cell_type": "code",
   "execution_count": 44,
   "id": "f65b7aa8",
   "metadata": {},
   "outputs": [],
   "source": [
    "from collections import defaultdict\n",
    "n = 123"
   ]
  },
  {
   "cell_type": "code",
   "execution_count": 54,
   "id": "92ed73f7",
   "metadata": {},
   "outputs": [
    {
     "data": {
      "text/plain": [
       "defaultdict(int,\n",
       "            {0: 1,\n",
       "             1: 3,\n",
       "             2: 5,\n",
       "             3: 7,\n",
       "             4: 8,\n",
       "             5: 9,\n",
       "             6: 9,\n",
       "             7: 10,\n",
       "             8: 11,\n",
       "             9: 12,\n",
       "             10: 11,\n",
       "             11: 9,\n",
       "             12: 7,\n",
       "             13: 6,\n",
       "             14: 5,\n",
       "             15: 4,\n",
       "             16: 3,\n",
       "             17: 2,\n",
       "             18: 1})"
      ]
     },
     "execution_count": 54,
     "metadata": {},
     "output_type": "execute_result"
    }
   ],
   "source": [
    "def group(n):\n",
    "    a = 0\n",
    "    while n>0:\n",
    "        a = n%10+a\n",
    "        n = n//10\n",
    "    return a    \n",
    "\n",
    "def number(n):\n",
    "    b = []\n",
    "    for i in range(n):\n",
    "        b.append(group(i))\n",
    "    return b\n",
    "\n",
    "def quant(n):\n",
    "    A = number(n)\n",
    "    counter = defaultdict(int)\n",
    "    for elem in A:\n",
    "        counter[elem] += 1\n",
    "    return counter\n",
    "        \n",
    "quant(n)"
   ]
  }
 ],
 "metadata": {
  "kernelspec": {
   "display_name": "Python 3 (ipykernel)",
   "language": "python",
   "name": "python3"
  },
  "language_info": {
   "codemirror_mode": {
    "name": "ipython",
    "version": 3
   },
   "file_extension": ".py",
   "mimetype": "text/x-python",
   "name": "python",
   "nbconvert_exporter": "python",
   "pygments_lexer": "ipython3",
   "version": "3.9.7"
  }
 },
 "nbformat": 4,
 "nbformat_minor": 5
}
