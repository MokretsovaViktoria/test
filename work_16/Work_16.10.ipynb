{
 "cells": [
  {
   "cell_type": "markdown",
   "id": "f9256cc7",
   "metadata": {},
   "source": [
    "**Имортируем специальную библиотеку и определяем переменные**"
   ]
  },
  {
   "cell_type": "code",
   "execution_count": 29,
   "id": "f65b7aa8",
   "metadata": {},
   "outputs": [],
   "source": [
    "from collections import defaultdict\n",
    "n = 1_000_000\n",
    "m = 9"
   ]
  },
  {
   "cell_type": "markdown",
   "id": "6d520f9e",
   "metadata": {},
   "source": [
    "**Вариант 1**"
   ]
  },
  {
   "cell_type": "code",
   "execution_count": 30,
   "id": "92ed73f7",
   "metadata": {},
   "outputs": [
    {
     "data": {
      "text/plain": [
       "defaultdict(int,\n",
       "            {0: 1,\n",
       "             1: 6,\n",
       "             2: 21,\n",
       "             3: 56,\n",
       "             4: 126,\n",
       "             5: 252,\n",
       "             6: 462,\n",
       "             7: 792,\n",
       "             8: 1287,\n",
       "             9: 2002,\n",
       "             10: 2997,\n",
       "             11: 4332,\n",
       "             12: 6062,\n",
       "             13: 8232,\n",
       "             14: 10872,\n",
       "             15: 13992,\n",
       "             16: 17577,\n",
       "             17: 21582,\n",
       "             18: 25927,\n",
       "             19: 30492,\n",
       "             20: 35127,\n",
       "             21: 39662,\n",
       "             22: 43917,\n",
       "             23: 47712,\n",
       "             24: 50877,\n",
       "             25: 53262,\n",
       "             26: 54747,\n",
       "             27: 55252,\n",
       "             28: 54747,\n",
       "             29: 53262,\n",
       "             30: 50877,\n",
       "             31: 47712,\n",
       "             32: 43917,\n",
       "             33: 39662,\n",
       "             34: 35127,\n",
       "             35: 30492,\n",
       "             36: 25927,\n",
       "             37: 21582,\n",
       "             38: 17577,\n",
       "             39: 13992,\n",
       "             40: 10872,\n",
       "             41: 8232,\n",
       "             42: 6062,\n",
       "             43: 4332,\n",
       "             44: 2997,\n",
       "             45: 2002,\n",
       "             46: 1287,\n",
       "             47: 792,\n",
       "             48: 462,\n",
       "             49: 252,\n",
       "             50: 126,\n",
       "             51: 56,\n",
       "             52: 21,\n",
       "             53: 6,\n",
       "             54: 1})"
      ]
     },
     "execution_count": 30,
     "metadata": {},
     "output_type": "execute_result"
    }
   ],
   "source": [
    "def group(n):  # Функция определения группы заданного покупателя\n",
    "    a = 0\n",
    "    while n>0:\n",
    "        a = n%10+a\n",
    "        n = n//10\n",
    "    return a    \n",
    "\n",
    "def number(n):  # Функция определения группы всех покупателей от 0 до заданного числа\n",
    "    b = []\n",
    "    for i in range(n):\n",
    "        b.append(group(i))\n",
    "    return b\n",
    "\n",
    "def quant(n):  # Функция подсчёта количества человек в каждой группе\n",
    "    A = number(n)\n",
    "    counter = defaultdict(int)\n",
    "    for elem in A:\n",
    "        counter[elem] += 1\n",
    "    return counter\n",
    "        \n",
    "quant(n)"
   ]
  },
  {
   "cell_type": "markdown",
   "id": "e81f77fc",
   "metadata": {},
   "source": [
    "**Вариант 2**"
   ]
  },
  {
   "cell_type": "code",
   "execution_count": 31,
   "id": "3f22c839",
   "metadata": {},
   "outputs": [
    {
     "data": {
      "text/plain": [
       "defaultdict(int,\n",
       "            {0: 55,\n",
       "             1: 135,\n",
       "             2: 315,\n",
       "             3: 630,\n",
       "             4: 1134,\n",
       "             5: 1890,\n",
       "             6: 2970,\n",
       "             7: 4455,\n",
       "             8: 6435,\n",
       "             9: 9009,\n",
       "             10: 12150,\n",
       "             11: 15885,\n",
       "             12: 20160,\n",
       "             13: 24894,\n",
       "             14: 29970,\n",
       "             15: 35235,\n",
       "             16: 40500,\n",
       "             17: 45540,\n",
       "             18: 50094,\n",
       "             19: 53865,\n",
       "             20: 56700,\n",
       "             21: 58455,\n",
       "             22: 59049,\n",
       "             23: 58455,\n",
       "             24: 56700,\n",
       "             25: 53865,\n",
       "             26: 50085,\n",
       "             27: 45549,\n",
       "             28: 40500,\n",
       "             29: 35235,\n",
       "             30: 29970,\n",
       "             31: 24894,\n",
       "             32: 20160,\n",
       "             33: 15885,\n",
       "             34: 12150,\n",
       "             35: 9000,\n",
       "             36: 6444,\n",
       "             37: 4455,\n",
       "             38: 2970,\n",
       "             39: 1890,\n",
       "             40: 1134,\n",
       "             41: 630,\n",
       "             42: 315,\n",
       "             43: 135,\n",
       "             44: 45,\n",
       "             45: 9})"
      ]
     },
     "execution_count": 31,
     "metadata": {},
     "output_type": "execute_result"
    }
   ],
   "source": [
    "def group(n, m):  # Функция определения группы заданного покупателя\n",
    "    a = 0\n",
    "    while n>m:\n",
    "        a = n%10+a\n",
    "        n = n//10\n",
    "    return a    \n",
    "\n",
    "def number(n, m):  # Функция определения группы всех покупателей от m до n\n",
    "    b = []\n",
    "    for i in range(n):\n",
    "        b.append(group(i, m))\n",
    "    return b\n",
    "\n",
    "def quant(n, m):  # Функция подсчёта количества человек в каждой группе\n",
    "    A = number(n, m)\n",
    "    counter = defaultdict(int)\n",
    "    for elem in A:\n",
    "        counter[elem] += 1\n",
    "    return counter\n",
    "        \n",
    "quant(n, m)"
   ]
  },
  {
   "cell_type": "code",
   "execution_count": null,
   "id": "1c5700c6",
   "metadata": {},
   "outputs": [],
   "source": []
  }
 ],
 "metadata": {
  "kernelspec": {
   "display_name": "Python 3 (ipykernel)",
   "language": "python",
   "name": "python3"
  },
  "language_info": {
   "codemirror_mode": {
    "name": "ipython",
    "version": 3
   },
   "file_extension": ".py",
   "mimetype": "text/x-python",
   "name": "python",
   "nbconvert_exporter": "python",
   "pygments_lexer": "ipython3",
   "version": "3.9.7"
  }
 },
 "nbformat": 4,
 "nbformat_minor": 5
}
